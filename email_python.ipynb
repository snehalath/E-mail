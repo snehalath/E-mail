{
 "cells": [
  {
   "cell_type": "code",
   "execution_count": 20,
   "id": "0947ce91",
   "metadata": {},
   "outputs": [
    {
     "name": "stdout",
     "output_type": "stream",
     "text": [
      "Enter recipient email: supraja2d@gmail.com\n",
      "Enter your message: hi\n",
      "Email sent successfully!\n"
     ]
    }
   ],
   "source": [
    "import smtplib\n",
    "from email.mime.multipart import MIMEMultipart\n",
    "from email.mime.text import MIMEText\n",
    "\n",
    "def send_email(sender, recipient, subject, message, smtp_username, smtp_password):\n",
    "    # Create a multipart message\n",
    "    msg = MIMEMultipart()\n",
    "    msg['From'] = sender\n",
    "    msg['To'] = recipient\n",
    "    msg['Subject'] = subject\n",
    "\n",
    "    # Create HTML content\n",
    "    html_content = f\"\"\"\n",
    "    <html>\n",
    "    <head></head>\n",
    "    <body>\n",
    "        <p style=\"font-size: 16px; color: #FF0000;\">{message}</p>\n",
    "        <img src=\"https://media.istockphoto.com/id/1299677577/vector/people-family-vector-community-concept-stock-illustration.jpg?s=612x612&w=0&k=20&c=fStSc0yLHSYPIRqXTR7VYCbXnLzMw-86q4eobQloK5I=\" \n",
    "        <body>\n",
    "    </html>\n",
    "    \"\"\"\n",
    "\n",
    "    # Attach HTML content\n",
    "    msg.attach(MIMEText(html_content, 'html'))\n",
    "\n",
    "    # Setup the SMTP server\n",
    "    smtp_server = \"smtp.gmail.com\"\n",
    "    smtp_port = 587\n",
    "\n",
    "    try:\n",
    "        # Create a secure connection to the SMTP server\n",
    "        with smtplib.SMTP(smtp_server, smtp_port) as server:\n",
    "            server.starttls()  # Enable TLS encryption\n",
    "            server.login(smtp_username, smtp_password)  # Login to the SMTP server\n",
    "            server.send_message(msg)  # Send the email\n",
    "        print(\"Email sent successfully!\")\n",
    "    except smtplib.SMTPException as e:\n",
    "        print(\"Error sending email:\", str(e))\n",
    "\n",
    "# Email details\n",
    "sender = \"snehalathanandikolamath@gmail.com\"\n",
    "recipient = input(\"Enter recipient email: \")\n",
    "subject = \"Test Email\"\n",
    "message = input(\"Enter your message: \")\n",
    "\n",
    "# SMTP credentials\n",
    "smtp_username = \"snehalathanandikolamath@gmail.com\"\n",
    "smtp_password = \"mtlpmnrdcnbxjtwt\"\n",
    "\n",
    "# Send the email\n",
    "send_email(sender, recipient, subject, message, smtp_username, smtp_password)\n"
   ]
  },
  {
   "cell_type": "code",
   "execution_count": null,
   "id": "08f9c2ef",
   "metadata": {},
   "outputs": [],
   "source": []
  }
 ],
 "metadata": {
  "kernelspec": {
   "display_name": "Python 3 (ipykernel)",
   "language": "python",
   "name": "python3"
  },
  "language_info": {
   "codemirror_mode": {
    "name": "ipython",
    "version": 3
   },
   "file_extension": ".py",
   "mimetype": "text/x-python",
   "name": "python",
   "nbconvert_exporter": "python",
   "pygments_lexer": "ipython3",
   "version": "3.9.13"
  }
 },
 "nbformat": 4,
 "nbformat_minor": 5
}
